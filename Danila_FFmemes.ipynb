{
  "nbformat": 4,
  "nbformat_minor": 0,
  "metadata": {
    "colab": {
      "name": "Danila FFmemes.ipynb",
      "provenance": [],
      "collapsed_sections": []
    },
    "kernelspec": {
      "name": "python3",
      "display_name": "Python 3"
    }
  },
  "cells": [
    {
      "cell_type": "code",
      "metadata": {
        "id": "VDtQjWyHXdgA"
      },
      "source": [
        "import pandas as pd\n",
        "import numpy as np\n",
        "import plotly.express as px\n",
        "import sklearn"
      ],
      "execution_count": 2,
      "outputs": []
    },
    {
      "cell_type": "code",
      "metadata": {
        "id": "CI5qM8QyXlXY"
      },
      "source": [
        "meme = pd.read_csv('drive/My Drive/memeproject/Danila FFmemes/danila_meme.csv')\n",
        "event = pd.read_csv('drive/My Drive/memeproject/Danila FFmemes/danila_event.csv')\n",
        "user = pd.read_csv('drive/My Drive/memeproject/Danila FFmemes/danila_user.csv')"
      ],
      "execution_count": 3,
      "outputs": []
    },
    {
      "cell_type": "code",
      "metadata": {
        "colab": {
          "base_uri": "https://localhost:8080/",
          "height": 460
        },
        "id": "iKzjoQSkCBMJ",
        "outputId": "2242e470-6f06-4d30-cb90-2d0fbd0a1105"
      },
      "source": [
        "meme.head()"
      ],
      "execution_count": 7,
      "outputs": [
        {
          "output_type": "execute_result",
          "data": {
            "text/html": [
              "<div>\n",
              "<style scoped>\n",
              "    .dataframe tbody tr th:only-of-type {\n",
              "        vertical-align: middle;\n",
              "    }\n",
              "\n",
              "    .dataframe tbody tr th {\n",
              "        vertical-align: top;\n",
              "    }\n",
              "\n",
              "    .dataframe thead th {\n",
              "        text-align: right;\n",
              "    }\n",
              "</style>\n",
              "<table border=\"1\" class=\"dataframe\">\n",
              "  <thead>\n",
              "    <tr style=\"text-align: right;\">\n",
              "      <th></th>\n",
              "      <th>meme_id</th>\n",
              "      <th>meme_type</th>\n",
              "      <th>source_id</th>\n",
              "      <th>published_at</th>\n",
              "      <th>caption</th>\n",
              "      <th>content_lang</th>\n",
              "      <th>is_available</th>\n",
              "      <th>likes</th>\n",
              "      <th>dislikes</th>\n",
              "      <th>created_at</th>\n",
              "      <th>updated_at</th>\n",
              "      <th>is_broken</th>\n",
              "      <th>content_text</th>\n",
              "      <th>caption_lang</th>\n",
              "      <th>language_id</th>\n",
              "    </tr>\n",
              "  </thead>\n",
              "  <tbody>\n",
              "    <tr>\n",
              "      <th>0</th>\n",
              "      <td>28997</td>\n",
              "      <td>photo</td>\n",
              "      <td>79.0</td>\n",
              "      <td>2020-04-12 01:48:13+00</td>\n",
              "      <td>I mean shitt it ain't their fault</td>\n",
              "      <td>en</td>\n",
              "      <td>True</td>\n",
              "      <td>17</td>\n",
              "      <td>14</td>\n",
              "      <td>2020-04-12 09:04:37.341908+00</td>\n",
              "      <td>2020-10-26 19:20:58.198825+00</td>\n",
              "      <td>False</td>\n",
              "      <td>brandon @brndvx females live on recruit diffic...</td>\n",
              "      <td>en</td>\n",
              "      <td>3.0</td>\n",
              "    </tr>\n",
              "    <tr>\n",
              "      <th>1</th>\n",
              "      <td>10873</td>\n",
              "      <td>photo</td>\n",
              "      <td>43.0</td>\n",
              "      <td>2020-03-25 11:48:14+00</td>\n",
              "      <td>NaN</td>\n",
              "      <td>ru</td>\n",
              "      <td>True</td>\n",
              "      <td>79</td>\n",
              "      <td>74</td>\n",
              "      <td>2020-03-25 20:00:01.154096+00</td>\n",
              "      <td>2020-10-26 19:20:58.226846+00</td>\n",
              "      <td>False</td>\n",
              "      <td>Я не робот Докажите, что всякое односвязное Ит...</td>\n",
              "      <td>ww</td>\n",
              "      <td>2.0</td>\n",
              "    </tr>\n",
              "    <tr>\n",
              "      <th>2</th>\n",
              "      <td>9874</td>\n",
              "      <td>photo</td>\n",
              "      <td>78.0</td>\n",
              "      <td>2020-03-24 07:18:03+00</td>\n",
              "      <td>Anime toddies expert</td>\n",
              "      <td>en</td>\n",
              "      <td>True</td>\n",
              "      <td>1</td>\n",
              "      <td>7</td>\n",
              "      <td>2020-03-24 13:06:18.588359+00</td>\n",
              "      <td>2020-10-26 19:20:58.259045+00</td>\n",
              "      <td>False</td>\n",
              "      <td>When you find the actual interview and it does...</td>\n",
              "      <td>en</td>\n",
              "      <td>3.0</td>\n",
              "    </tr>\n",
              "    <tr>\n",
              "      <th>3</th>\n",
              "      <td>43458</td>\n",
              "      <td>photo</td>\n",
              "      <td>43.0</td>\n",
              "      <td>2020-05-23 12:50:52+00</td>\n",
              "      <td>NaN</td>\n",
              "      <td>ru</td>\n",
              "      <td>False</td>\n",
              "      <td>8</td>\n",
              "      <td>12</td>\n",
              "      <td>2020-05-24 22:03:34.926116+00</td>\n",
              "      <td>2020-10-26 19:20:58.265179+00</td>\n",
              "      <td>False</td>\n",
              "      <td>Google сколько калорий в грамме урана а Все В ...</td>\n",
              "      <td>ww</td>\n",
              "      <td>2.0</td>\n",
              "    </tr>\n",
              "    <tr>\n",
              "      <th>4</th>\n",
              "      <td>9000</td>\n",
              "      <td>photo</td>\n",
              "      <td>76.0</td>\n",
              "      <td>2020-03-23 07:16:05+00</td>\n",
              "      <td>New treasure</td>\n",
              "      <td>und</td>\n",
              "      <td>True</td>\n",
              "      <td>2</td>\n",
              "      <td>9</td>\n",
              "      <td>2020-03-23 13:04:55.258554+00</td>\n",
              "      <td>2020-10-26 19:20:58.29742+00</td>\n",
              "      <td>False</td>\n",
              "      <td>YRO .20.</td>\n",
              "      <td>en</td>\n",
              "      <td>3.0</td>\n",
              "    </tr>\n",
              "  </tbody>\n",
              "</table>\n",
              "</div>"
            ],
            "text/plain": [
              "   meme_id meme_type  ...  caption_lang language_id\n",
              "0    28997     photo  ...            en         3.0\n",
              "1    10873     photo  ...            ww         2.0\n",
              "2     9874     photo  ...            en         3.0\n",
              "3    43458     photo  ...            ww         2.0\n",
              "4     9000     photo  ...            en         3.0\n",
              "\n",
              "[5 rows x 15 columns]"
            ]
          },
          "metadata": {
            "tags": []
          },
          "execution_count": 7
        }
      ]
    },
    {
      "cell_type": "code",
      "metadata": {
        "colab": {
          "base_uri": "https://localhost:8080/",
          "height": 198
        },
        "id": "17Jmq6LRCBVw",
        "outputId": "dc179a80-4114-4623-98ff-65696d7547d8"
      },
      "source": [
        "event.head()"
      ],
      "execution_count": 8,
      "outputs": [
        {
          "output_type": "execute_result",
          "data": {
            "text/html": [
              "<div>\n",
              "<style scoped>\n",
              "    .dataframe tbody tr th:only-of-type {\n",
              "        vertical-align: middle;\n",
              "    }\n",
              "\n",
              "    .dataframe tbody tr th {\n",
              "        vertical-align: top;\n",
              "    }\n",
              "\n",
              "    .dataframe thead th {\n",
              "        text-align: right;\n",
              "    }\n",
              "</style>\n",
              "<table border=\"1\" class=\"dataframe\">\n",
              "  <thead>\n",
              "    <tr style=\"text-align: right;\">\n",
              "      <th></th>\n",
              "      <th>event_id</th>\n",
              "      <th>reaction_id</th>\n",
              "      <th>session_idx</th>\n",
              "      <th>meme_idx</th>\n",
              "      <th>created_at</th>\n",
              "      <th>updated_at</th>\n",
              "      <th>meme_id</th>\n",
              "      <th>user_id</th>\n",
              "    </tr>\n",
              "  </thead>\n",
              "  <tbody>\n",
              "    <tr>\n",
              "      <th>0</th>\n",
              "      <td>3607617</td>\n",
              "      <td>2.0</td>\n",
              "      <td>55</td>\n",
              "      <td>11</td>\n",
              "      <td>2020-10-24 19:45:50.964474+00</td>\n",
              "      <td>2020-10-24 19:45:51.049752+00</td>\n",
              "      <td>24379</td>\n",
              "      <td>280747086</td>\n",
              "    </tr>\n",
              "    <tr>\n",
              "      <th>1</th>\n",
              "      <td>3608100</td>\n",
              "      <td>1.0</td>\n",
              "      <td>280</td>\n",
              "      <td>45</td>\n",
              "      <td>2020-10-24 19:52:33.681933+00</td>\n",
              "      <td>2020-10-24 19:52:33.763993+00</td>\n",
              "      <td>49173</td>\n",
              "      <td>285739883</td>\n",
              "    </tr>\n",
              "    <tr>\n",
              "      <th>2</th>\n",
              "      <td>3607629</td>\n",
              "      <td>1.0</td>\n",
              "      <td>55</td>\n",
              "      <td>13</td>\n",
              "      <td>2020-10-24 19:46:08.690407+00</td>\n",
              "      <td>2020-10-24 19:46:08.779079+00</td>\n",
              "      <td>8340</td>\n",
              "      <td>280747086</td>\n",
              "    </tr>\n",
              "    <tr>\n",
              "      <th>3</th>\n",
              "      <td>3607649</td>\n",
              "      <td>NaN</td>\n",
              "      <td>30</td>\n",
              "      <td>2</td>\n",
              "      <td>2020-10-24 19:46:24.443014+00</td>\n",
              "      <td>2020-10-24 19:46:24.519787+00</td>\n",
              "      <td>64748</td>\n",
              "      <td>78991522</td>\n",
              "    </tr>\n",
              "    <tr>\n",
              "      <th>4</th>\n",
              "      <td>3608045</td>\n",
              "      <td>2.0</td>\n",
              "      <td>35</td>\n",
              "      <td>341</td>\n",
              "      <td>2020-10-24 19:51:28.544856+00</td>\n",
              "      <td>2020-10-24 19:51:28.586788+00</td>\n",
              "      <td>45163</td>\n",
              "      <td>860086058</td>\n",
              "    </tr>\n",
              "  </tbody>\n",
              "</table>\n",
              "</div>"
            ],
            "text/plain": [
              "   event_id  reaction_id  ...  meme_id    user_id\n",
              "0   3607617          2.0  ...    24379  280747086\n",
              "1   3608100          1.0  ...    49173  285739883\n",
              "2   3607629          1.0  ...     8340  280747086\n",
              "3   3607649          NaN  ...    64748   78991522\n",
              "4   3608045          2.0  ...    45163  860086058\n",
              "\n",
              "[5 rows x 8 columns]"
            ]
          },
          "metadata": {
            "tags": []
          },
          "execution_count": 8
        }
      ]
    },
    {
      "cell_type": "code",
      "metadata": {
        "colab": {
          "base_uri": "https://localhost:8080/",
          "height": 305
        },
        "id": "zbphDFTJCBc1",
        "outputId": "2551c6c4-5847-41c0-bc75-adf6f5b316db"
      },
      "source": [
        "user.head()"
      ],
      "execution_count": 9,
      "outputs": [
        {
          "output_type": "execute_result",
          "data": {
            "text/html": [
              "<div>\n",
              "<style scoped>\n",
              "    .dataframe tbody tr th:only-of-type {\n",
              "        vertical-align: middle;\n",
              "    }\n",
              "\n",
              "    .dataframe tbody tr th {\n",
              "        vertical-align: top;\n",
              "    }\n",
              "\n",
              "    .dataframe thead th {\n",
              "        text-align: right;\n",
              "    }\n",
              "</style>\n",
              "<table border=\"1\" class=\"dataframe\">\n",
              "  <thead>\n",
              "    <tr style=\"text-align: right;\">\n",
              "      <th></th>\n",
              "      <th>user_id</th>\n",
              "      <th>deep_link</th>\n",
              "      <th>is_blocked_bot</th>\n",
              "      <th>is_banned</th>\n",
              "      <th>is_moderator</th>\n",
              "      <th>sessions</th>\n",
              "      <th>last_session_memes</th>\n",
              "      <th>watched_memes</th>\n",
              "      <th>created_at</th>\n",
              "      <th>updated_at</th>\n",
              "      <th>interface_lang</th>\n",
              "      <th>gender</th>\n",
              "    </tr>\n",
              "  </thead>\n",
              "  <tbody>\n",
              "    <tr>\n",
              "      <th>0</th>\n",
              "      <td>820326025</td>\n",
              "      <td>anime0ch_lang_ru</td>\n",
              "      <td>False</td>\n",
              "      <td>False</td>\n",
              "      <td>False</td>\n",
              "      <td>6</td>\n",
              "      <td>1</td>\n",
              "      <td>20</td>\n",
              "      <td>2020-09-12 20:07:11.668743+00</td>\n",
              "      <td>2020-10-26 12:16:18.458654+00</td>\n",
              "      <td>ru</td>\n",
              "      <td>M</td>\n",
              "    </tr>\n",
              "    <tr>\n",
              "      <th>1</th>\n",
              "      <td>1040875164</td>\n",
              "      <td>likemeupbot_lang_en</td>\n",
              "      <td>False</td>\n",
              "      <td>False</td>\n",
              "      <td>False</td>\n",
              "      <td>2</td>\n",
              "      <td>1</td>\n",
              "      <td>7</td>\n",
              "      <td>2020-07-21 05:54:12.671036+00</td>\n",
              "      <td>2020-10-26 14:37:05.637591+00</td>\n",
              "      <td>en</td>\n",
              "      <td>NaN</td>\n",
              "    </tr>\n",
              "    <tr>\n",
              "      <th>2</th>\n",
              "      <td>449432539</td>\n",
              "      <td>debil_ebaniy</td>\n",
              "      <td>True</td>\n",
              "      <td>False</td>\n",
              "      <td>False</td>\n",
              "      <td>2</td>\n",
              "      <td>1</td>\n",
              "      <td>9</td>\n",
              "      <td>2020-09-14 19:02:06.80911+00</td>\n",
              "      <td>2020-10-17 21:26:52.029824+00</td>\n",
              "      <td>ru</td>\n",
              "      <td>F</td>\n",
              "    </tr>\n",
              "    <tr>\n",
              "      <th>3</th>\n",
              "      <td>230248850</td>\n",
              "      <td>NaN</td>\n",
              "      <td>False</td>\n",
              "      <td>False</td>\n",
              "      <td>False</td>\n",
              "      <td>26</td>\n",
              "      <td>1</td>\n",
              "      <td>38</td>\n",
              "      <td>2020-03-16 00:36:42.252438+00</td>\n",
              "      <td>2020-10-26 12:11:02.159405+00</td>\n",
              "      <td>ru</td>\n",
              "      <td>M</td>\n",
              "    </tr>\n",
              "    <tr>\n",
              "      <th>4</th>\n",
              "      <td>7719424</td>\n",
              "      <td>NaN</td>\n",
              "      <td>True</td>\n",
              "      <td>False</td>\n",
              "      <td>False</td>\n",
              "      <td>27</td>\n",
              "      <td>6</td>\n",
              "      <td>49</td>\n",
              "      <td>2020-03-15 22:30:45.300242+00</td>\n",
              "      <td>2020-10-17 21:26:52.19941+00</td>\n",
              "      <td>ru</td>\n",
              "      <td>M</td>\n",
              "    </tr>\n",
              "  </tbody>\n",
              "</table>\n",
              "</div>"
            ],
            "text/plain": [
              "      user_id            deep_link  ...  interface_lang  gender\n",
              "0   820326025     anime0ch_lang_ru  ...              ru       M\n",
              "1  1040875164  likemeupbot_lang_en  ...              en     NaN\n",
              "2   449432539         debil_ebaniy  ...              ru       F\n",
              "3   230248850                  NaN  ...              ru       M\n",
              "4     7719424                  NaN  ...              ru       M\n",
              "\n",
              "[5 rows x 12 columns]"
            ]
          },
          "metadata": {
            "tags": []
          },
          "execution_count": 9
        }
      ]
    },
    {
      "cell_type": "markdown",
      "metadata": {
        "id": "CM9FTI6KDVEp"
      },
      "source": [
        "## Reaction handling"
      ]
    },
    {
      "cell_type": "markdown",
      "metadata": {
        "id": "bx8uC4WcjZ3Y"
      },
      "source": [
        "Removing broken memes"
      ]
    },
    {
      "cell_type": "code",
      "metadata": {
        "id": "HbhAAJy_jfUd"
      },
      "source": [
        "meme = meme.loc[meme.is_broken==False]"
      ],
      "execution_count": 4,
      "outputs": []
    },
    {
      "cell_type": "markdown",
      "metadata": {
        "id": "lOvNHvLCivGc"
      },
      "source": [
        "Public likes"
      ]
    },
    {
      "cell_type": "code",
      "metadata": {
        "id": "o5hpbisIie5d",
        "colab": {
          "base_uri": "https://localhost:8080/",
          "height": 228
        },
        "outputId": "97821b7d-d447-4dea-c597-264b848fbf08"
      },
      "source": [
        "source_like = meme[['source_id','likes']].groupby('source_id').sum()\n",
        "source_like.head()"
      ],
      "execution_count": 5,
      "outputs": [
        {
          "output_type": "execute_result",
          "data": {
            "text/html": [
              "<div>\n",
              "<style scoped>\n",
              "    .dataframe tbody tr th:only-of-type {\n",
              "        vertical-align: middle;\n",
              "    }\n",
              "\n",
              "    .dataframe tbody tr th {\n",
              "        vertical-align: top;\n",
              "    }\n",
              "\n",
              "    .dataframe thead th {\n",
              "        text-align: right;\n",
              "    }\n",
              "</style>\n",
              "<table border=\"1\" class=\"dataframe\">\n",
              "  <thead>\n",
              "    <tr style=\"text-align: right;\">\n",
              "      <th></th>\n",
              "      <th>likes</th>\n",
              "    </tr>\n",
              "    <tr>\n",
              "      <th>source_id</th>\n",
              "      <th></th>\n",
              "    </tr>\n",
              "  </thead>\n",
              "  <tbody>\n",
              "    <tr>\n",
              "      <th>1.0</th>\n",
              "      <td>141</td>\n",
              "    </tr>\n",
              "    <tr>\n",
              "      <th>2.0</th>\n",
              "      <td>8753</td>\n",
              "    </tr>\n",
              "    <tr>\n",
              "      <th>3.0</th>\n",
              "      <td>17852</td>\n",
              "    </tr>\n",
              "    <tr>\n",
              "      <th>4.0</th>\n",
              "      <td>17265</td>\n",
              "    </tr>\n",
              "    <tr>\n",
              "      <th>5.0</th>\n",
              "      <td>11334</td>\n",
              "    </tr>\n",
              "  </tbody>\n",
              "</table>\n",
              "</div>"
            ],
            "text/plain": [
              "           likes\n",
              "source_id       \n",
              "1.0          141\n",
              "2.0         8753\n",
              "3.0        17852\n",
              "4.0        17265\n",
              "5.0        11334"
            ]
          },
          "metadata": {
            "tags": []
          },
          "execution_count": 5
        }
      ]
    },
    {
      "cell_type": "markdown",
      "metadata": {
        "id": "Q9Pj2bBVjI27"
      },
      "source": [
        "Public dislikes"
      ]
    },
    {
      "cell_type": "code",
      "metadata": {
        "id": "uh5B5UhBi8dc",
        "colab": {
          "base_uri": "https://localhost:8080/",
          "height": 228
        },
        "outputId": "b0f02f54-d264-416f-cdab-7be79e8538de"
      },
      "source": [
        "source_dislike = meme[['source_id','dislikes']].groupby('source_id').sum()\n",
        "source_dislike.head()"
      ],
      "execution_count": 6,
      "outputs": [
        {
          "output_type": "execute_result",
          "data": {
            "text/html": [
              "<div>\n",
              "<style scoped>\n",
              "    .dataframe tbody tr th:only-of-type {\n",
              "        vertical-align: middle;\n",
              "    }\n",
              "\n",
              "    .dataframe tbody tr th {\n",
              "        vertical-align: top;\n",
              "    }\n",
              "\n",
              "    .dataframe thead th {\n",
              "        text-align: right;\n",
              "    }\n",
              "</style>\n",
              "<table border=\"1\" class=\"dataframe\">\n",
              "  <thead>\n",
              "    <tr style=\"text-align: right;\">\n",
              "      <th></th>\n",
              "      <th>dislikes</th>\n",
              "    </tr>\n",
              "    <tr>\n",
              "      <th>source_id</th>\n",
              "      <th></th>\n",
              "    </tr>\n",
              "  </thead>\n",
              "  <tbody>\n",
              "    <tr>\n",
              "      <th>1.0</th>\n",
              "      <td>447</td>\n",
              "    </tr>\n",
              "    <tr>\n",
              "      <th>2.0</th>\n",
              "      <td>11876</td>\n",
              "    </tr>\n",
              "    <tr>\n",
              "      <th>3.0</th>\n",
              "      <td>19303</td>\n",
              "    </tr>\n",
              "    <tr>\n",
              "      <th>4.0</th>\n",
              "      <td>27841</td>\n",
              "    </tr>\n",
              "    <tr>\n",
              "      <th>5.0</th>\n",
              "      <td>15323</td>\n",
              "    </tr>\n",
              "  </tbody>\n",
              "</table>\n",
              "</div>"
            ],
            "text/plain": [
              "           dislikes\n",
              "source_id          \n",
              "1.0             447\n",
              "2.0           11876\n",
              "3.0           19303\n",
              "4.0           27841\n",
              "5.0           15323"
            ]
          },
          "metadata": {
            "tags": []
          },
          "execution_count": 6
        }
      ]
    },
    {
      "cell_type": "markdown",
      "metadata": {
        "id": "y5zb31ykkle3"
      },
      "source": [
        "Meme to etself source"
      ]
    },
    {
      "cell_type": "code",
      "metadata": {
        "id": "urrU7EvrjN2-"
      },
      "source": [
        "event = pd.merge(event, meme[['meme_id','source_id']], on='meme_id')"
      ],
      "execution_count": 10,
      "outputs": []
    },
    {
      "cell_type": "markdown",
      "metadata": {
        "id": "YDJnaEpAmAQK"
      },
      "source": [
        "How many likes did user give to the source?"
      ]
    },
    {
      "cell_type": "code",
      "metadata": {
        "id": "4I2bVlcYkVPC",
        "colab": {
          "base_uri": "https://localhost:8080/",
          "height": 228
        },
        "outputId": "9968d918-50ef-4faf-c75f-9202d2c3d867"
      },
      "source": [
        "event.loc[event.reaction_id == 3, 'reaction_id'] = 1\n",
        "user_source_like = event.loc[event.reaction_id == 1][['user_id', 'source_id','reaction_id']].groupby(['user_id', 'source_id']).count()\n",
        "user_source_like.head()"
      ],
      "execution_count": 11,
      "outputs": [
        {
          "output_type": "execute_result",
          "data": {
            "text/html": [
              "<div>\n",
              "<style scoped>\n",
              "    .dataframe tbody tr th:only-of-type {\n",
              "        vertical-align: middle;\n",
              "    }\n",
              "\n",
              "    .dataframe tbody tr th {\n",
              "        vertical-align: top;\n",
              "    }\n",
              "\n",
              "    .dataframe thead th {\n",
              "        text-align: right;\n",
              "    }\n",
              "</style>\n",
              "<table border=\"1\" class=\"dataframe\">\n",
              "  <thead>\n",
              "    <tr style=\"text-align: right;\">\n",
              "      <th></th>\n",
              "      <th></th>\n",
              "      <th>reaction_id</th>\n",
              "    </tr>\n",
              "    <tr>\n",
              "      <th>user_id</th>\n",
              "      <th>source_id</th>\n",
              "      <th></th>\n",
              "    </tr>\n",
              "  </thead>\n",
              "  <tbody>\n",
              "    <tr>\n",
              "      <th rowspan=\"5\" valign=\"top\">1615</th>\n",
              "      <th>8.0</th>\n",
              "      <td>1</td>\n",
              "    </tr>\n",
              "    <tr>\n",
              "      <th>11.0</th>\n",
              "      <td>1</td>\n",
              "    </tr>\n",
              "    <tr>\n",
              "      <th>13.0</th>\n",
              "      <td>2</td>\n",
              "    </tr>\n",
              "    <tr>\n",
              "      <th>18.0</th>\n",
              "      <td>1</td>\n",
              "    </tr>\n",
              "    <tr>\n",
              "      <th>25.0</th>\n",
              "      <td>1</td>\n",
              "    </tr>\n",
              "  </tbody>\n",
              "</table>\n",
              "</div>"
            ],
            "text/plain": [
              "                   reaction_id\n",
              "user_id source_id             \n",
              "1615    8.0                  1\n",
              "        11.0                 1\n",
              "        13.0                 2\n",
              "        18.0                 1\n",
              "        25.0                 1"
            ]
          },
          "metadata": {
            "tags": []
          },
          "execution_count": 11
        }
      ]
    },
    {
      "cell_type": "markdown",
      "metadata": {
        "id": "aT044dJHmGO5"
      },
      "source": [
        "How many dislikes did user give to the source?"
      ]
    },
    {
      "cell_type": "code",
      "metadata": {
        "id": "q2LqgcQQkzlL",
        "colab": {
          "base_uri": "https://localhost:8080/",
          "height": 228
        },
        "outputId": "88f8c7b0-8044-44ed-be62-24d384bbf217"
      },
      "source": [
        "event.loc[event.reaction_id == 4, 'reaction_id'] = 2\n",
        "user_source_dislike = event.loc[event.reaction_id == 2][['user_id', 'source_id','reaction_id']].groupby(['user_id', 'source_id']).count()\n",
        "user_source_dislike.head()"
      ],
      "execution_count": 12,
      "outputs": [
        {
          "output_type": "execute_result",
          "data": {
            "text/html": [
              "<div>\n",
              "<style scoped>\n",
              "    .dataframe tbody tr th:only-of-type {\n",
              "        vertical-align: middle;\n",
              "    }\n",
              "\n",
              "    .dataframe tbody tr th {\n",
              "        vertical-align: top;\n",
              "    }\n",
              "\n",
              "    .dataframe thead th {\n",
              "        text-align: right;\n",
              "    }\n",
              "</style>\n",
              "<table border=\"1\" class=\"dataframe\">\n",
              "  <thead>\n",
              "    <tr style=\"text-align: right;\">\n",
              "      <th></th>\n",
              "      <th></th>\n",
              "      <th>reaction_id</th>\n",
              "    </tr>\n",
              "    <tr>\n",
              "      <th>user_id</th>\n",
              "      <th>source_id</th>\n",
              "      <th></th>\n",
              "    </tr>\n",
              "  </thead>\n",
              "  <tbody>\n",
              "    <tr>\n",
              "      <th rowspan=\"5\" valign=\"top\">1615</th>\n",
              "      <th>3.0</th>\n",
              "      <td>2</td>\n",
              "    </tr>\n",
              "    <tr>\n",
              "      <th>15.0</th>\n",
              "      <td>2</td>\n",
              "    </tr>\n",
              "    <tr>\n",
              "      <th>20.0</th>\n",
              "      <td>2</td>\n",
              "    </tr>\n",
              "    <tr>\n",
              "      <th>27.0</th>\n",
              "      <td>1</td>\n",
              "    </tr>\n",
              "    <tr>\n",
              "      <th>30.0</th>\n",
              "      <td>1</td>\n",
              "    </tr>\n",
              "  </tbody>\n",
              "</table>\n",
              "</div>"
            ],
            "text/plain": [
              "                   reaction_id\n",
              "user_id source_id             \n",
              "1615    3.0                  2\n",
              "        15.0                 2\n",
              "        20.0                 2\n",
              "        27.0                 1\n",
              "        30.0                 1"
            ]
          },
          "metadata": {
            "tags": []
          },
          "execution_count": 12
        }
      ]
    },
    {
      "cell_type": "markdown",
      "metadata": {
        "id": "jHN5QnCLDGNo"
      },
      "source": [
        "# План по рек системе\n",
        "\n",
        "## Постановка задачи\n",
        "\n",
        "На вход дается пара (мем, юзер). Задача бинарной классификации: на выход нужно предсказать, понравится (1) ли мем юзеру или нет (0). Можно предсказать вероятность.\n",
        "\n",
        "## Данные\n",
        "\n",
        "Есть таблички events, memes, user-source (тут суперлайк считается за 5 лайков, а удалить считается за 5 дизлайков).\n",
        "Можно делать какую угодно рекомендательную систему.\n",
        "\n",
        "## Анализ данных\n",
        "\n",
        "Список интересных вопросов:\n",
        "\n",
        "• В какой момент юзеры отваливаются\n",
        "• Отличается ли поведение англ/ру юзеров, статистика англ/ру мемов\n",
        "\n",
        "\n",
        "Ниже \"классический\" вариант фич, не учитывающий в явном виде user_id и meme_id:\n",
        "\n",
        "• сумма лайков мема\n",
        "• сумма дизлайков мема\n",
        "• сумма лайков паблика, из которого спарсен мем\n",
        "• сумма дизлайков паблика\n",
        "• сумма лайков пары юзер-паблик\n",
        "• сумма дизлайков пары юзер-паблик\n",
        "• фичи мема: content language, caption language, ...\n",
        "• фичи юзера: язык, origin, ...\n",
        "+ инжинирить новые фичи типа общего кол-ва реакций, лайк-рейта (сумма лайков мема на сумму всех реакций)\n",
        "+ сумма суперлайков, супердизлайков и проч\n",
        "\n",
        "После чего применяем какой-нибудь gradient boosting из коробки (или любую другую модель из sklearn).\n",
        "\n",
        "## Нюансы\n",
        "\n",
        "• Использовать user_id и meme_id как категориальные признаки\n",
        "• Если тренить модель отдельно на каждого юзера, а у конкретного user_id мало просмотренных мемов, модель может плохо предсказывать\n",
        "• Целевая метрика precision = TP/P = TP/(TP+FP). Accuracy тут не нужно.\n",
        "• Имеет смысл сделать отдельную рекомендательную систему для новых юзеров, которые просмотрели мало мемов.\n",
        "\n",
        "## Тесты\n",
        "\n",
        "Дается список из n юзеров, надо предсказать m мемов для каждого в формате csv с колонками user_id, meme_id. После чего они просматривают эти мемы и считается средний лайк-рейт, который сравнивается с текущей рекомендательной системой."
      ]
    },
    {
      "cell_type": "markdown",
      "metadata": {
        "id": "--eIAmfHMXSf"
      },
      "source": [
        "How many memes did user get?"
      ]
    },
    {
      "cell_type": "code",
      "metadata": {
        "id": "grIHCsJPGyNP",
        "colab": {
          "base_uri": "https://localhost:8080/",
          "height": 528
        },
        "outputId": "870a107b-d7e8-47d1-9901-2684f833de60"
      },
      "source": [
        "event[['reaction_id', 'user_id']].groupby('user_id').count().sort_values('reaction_id', ascending = False).head(15)"
      ],
      "execution_count": 16,
      "outputs": [
        {
          "output_type": "execute_result",
          "data": {
            "text/html": [
              "<div>\n",
              "<style scoped>\n",
              "    .dataframe tbody tr th:only-of-type {\n",
              "        vertical-align: middle;\n",
              "    }\n",
              "\n",
              "    .dataframe tbody tr th {\n",
              "        vertical-align: top;\n",
              "    }\n",
              "\n",
              "    .dataframe thead th {\n",
              "        text-align: right;\n",
              "    }\n",
              "</style>\n",
              "<table border=\"1\" class=\"dataframe\">\n",
              "  <thead>\n",
              "    <tr style=\"text-align: right;\">\n",
              "      <th></th>\n",
              "      <th>reaction_id</th>\n",
              "    </tr>\n",
              "    <tr>\n",
              "      <th>user_id</th>\n",
              "      <th></th>\n",
              "    </tr>\n",
              "  </thead>\n",
              "  <tbody>\n",
              "    <tr>\n",
              "      <th>81745542</th>\n",
              "      <td>47066</td>\n",
              "    </tr>\n",
              "    <tr>\n",
              "      <th>366481144</th>\n",
              "      <td>37491</td>\n",
              "    </tr>\n",
              "    <tr>\n",
              "      <th>431589633</th>\n",
              "      <td>36363</td>\n",
              "    </tr>\n",
              "    <tr>\n",
              "      <th>420302986</th>\n",
              "      <td>33748</td>\n",
              "    </tr>\n",
              "    <tr>\n",
              "      <th>376084050</th>\n",
              "      <td>27982</td>\n",
              "    </tr>\n",
              "    <tr>\n",
              "      <th>1254871249</th>\n",
              "      <td>27550</td>\n",
              "    </tr>\n",
              "    <tr>\n",
              "      <th>211921528</th>\n",
              "      <td>23956</td>\n",
              "    </tr>\n",
              "    <tr>\n",
              "      <th>936739890</th>\n",
              "      <td>23518</td>\n",
              "    </tr>\n",
              "    <tr>\n",
              "      <th>248960545</th>\n",
              "      <td>23394</td>\n",
              "    </tr>\n",
              "    <tr>\n",
              "      <th>233267520</th>\n",
              "      <td>22742</td>\n",
              "    </tr>\n",
              "    <tr>\n",
              "      <th>245981606</th>\n",
              "      <td>22447</td>\n",
              "    </tr>\n",
              "    <tr>\n",
              "      <th>137136029</th>\n",
              "      <td>21757</td>\n",
              "    </tr>\n",
              "    <tr>\n",
              "      <th>639048323</th>\n",
              "      <td>19485</td>\n",
              "    </tr>\n",
              "    <tr>\n",
              "      <th>541638190</th>\n",
              "      <td>18669</td>\n",
              "    </tr>\n",
              "    <tr>\n",
              "      <th>285739883</th>\n",
              "      <td>17451</td>\n",
              "    </tr>\n",
              "  </tbody>\n",
              "</table>\n",
              "</div>"
            ],
            "text/plain": [
              "            reaction_id\n",
              "user_id                \n",
              "81745542          47066\n",
              "366481144         37491\n",
              "431589633         36363\n",
              "420302986         33748\n",
              "376084050         27982\n",
              "1254871249        27550\n",
              "211921528         23956\n",
              "936739890         23518\n",
              "248960545         23394\n",
              "233267520         22742\n",
              "245981606         22447\n",
              "137136029         21757\n",
              "639048323         19485\n",
              "541638190         18669\n",
              "285739883         17451"
            ]
          },
          "metadata": {
            "tags": []
          },
          "execution_count": 16
        }
      ]
    },
    {
      "cell_type": "markdown",
      "metadata": {
        "id": "hbFawkdLQH9b"
      },
      "source": [
        "# English users analysis"
      ]
    },
    {
      "cell_type": "code",
      "metadata": {
        "id": "AoVDIAsPRM74"
      },
      "source": [
        "user_en = user.loc[user.interface_lang == 'en']['user_id']\n",
        "event_en = event[event.user_id.isin(user_en)][['reaction_id', 'user_id']].groupby('user_id').count().sort_values('reaction_id', ascending = False).rename(columns = {'reaction_id':'count'})"
      ],
      "execution_count": 17,
      "outputs": []
    },
    {
      "cell_type": "code",
      "metadata": {
        "id": "WRVzQLYFMnya",
        "colab": {
          "base_uri": "https://localhost:8080/",
          "height": 228
        },
        "outputId": "d6cfdd56-1402-4e3e-e2c7-4c7e47e86cf7"
      },
      "source": [
        "event_en.head(5)"
      ],
      "execution_count": 18,
      "outputs": [
        {
          "output_type": "execute_result",
          "data": {
            "text/html": [
              "<div>\n",
              "<style scoped>\n",
              "    .dataframe tbody tr th:only-of-type {\n",
              "        vertical-align: middle;\n",
              "    }\n",
              "\n",
              "    .dataframe tbody tr th {\n",
              "        vertical-align: top;\n",
              "    }\n",
              "\n",
              "    .dataframe thead th {\n",
              "        text-align: right;\n",
              "    }\n",
              "</style>\n",
              "<table border=\"1\" class=\"dataframe\">\n",
              "  <thead>\n",
              "    <tr style=\"text-align: right;\">\n",
              "      <th></th>\n",
              "      <th>count</th>\n",
              "    </tr>\n",
              "    <tr>\n",
              "      <th>user_id</th>\n",
              "      <th></th>\n",
              "    </tr>\n",
              "  </thead>\n",
              "  <tbody>\n",
              "    <tr>\n",
              "      <th>431589633</th>\n",
              "      <td>36363</td>\n",
              "    </tr>\n",
              "    <tr>\n",
              "      <th>941088926</th>\n",
              "      <td>4605</td>\n",
              "    </tr>\n",
              "    <tr>\n",
              "      <th>1150038020</th>\n",
              "      <td>3951</td>\n",
              "    </tr>\n",
              "    <tr>\n",
              "      <th>544090166</th>\n",
              "      <td>3871</td>\n",
              "    </tr>\n",
              "    <tr>\n",
              "      <th>1153477714</th>\n",
              "      <td>3493</td>\n",
              "    </tr>\n",
              "  </tbody>\n",
              "</table>\n",
              "</div>"
            ],
            "text/plain": [
              "            count\n",
              "user_id          \n",
              "431589633   36363\n",
              "941088926    4605\n",
              "1150038020   3951\n",
              "544090166    3871\n",
              "1153477714   3493"
            ]
          },
          "metadata": {
            "tags": []
          },
          "execution_count": 18
        }
      ]
    },
    {
      "cell_type": "code",
      "metadata": {
        "id": "d55nIGWuM5g7",
        "colab": {
          "base_uri": "https://localhost:8080/"
        },
        "outputId": "e4a270f4-246d-421a-c475-da2f214f1253"
      },
      "source": [
        "print('Standard deviation: ', event_en.std()[0])\n",
        "print('Median: ', event_en.median()[0])\n",
        "print('Mean of memes number: ', event_en.mean()[0])\n",
        "\n",
        "truncation = len(event_en)//10 #10% trim\n",
        "print('Trimmed mean: ', event_en[truncation:][::-1][truncation:].mean()[0])"
      ],
      "execution_count": 33,
      "outputs": [
        {
          "output_type": "stream",
          "text": [
            "Standard deviation:  517.7767110304451\n",
            "Median:  10.0\n",
            "Mean of memes number:  47.53766279479056\n",
            "Trimmed mean:  14.84469863616366\n"
          ],
          "name": "stdout"
        }
      ]
    },
    {
      "cell_type": "code",
      "metadata": {
        "id": "pSPng6nUQXui",
        "colab": {
          "base_uri": "https://localhost:8080/"
        },
        "outputId": "edd59ad3-80f6-456e-da1a-31debc8e0763"
      },
      "source": [
        "event_en.value_counts().head(15)"
      ],
      "execution_count": 20,
      "outputs": [
        {
          "output_type": "execute_result",
          "data": {
            "text/plain": [
              "count\n",
              "3        356\n",
              "4        329\n",
              "6        314\n",
              "5        304\n",
              "7        287\n",
              "2        260\n",
              "0        235\n",
              "8        222\n",
              "1        218\n",
              "9        186\n",
              "11       182\n",
              "10       170\n",
              "13       154\n",
              "12       149\n",
              "14       125\n",
              "dtype: int64"
            ]
          },
          "metadata": {
            "tags": []
          },
          "execution_count": 20
        }
      ]
    },
    {
      "cell_type": "markdown",
      "metadata": {
        "id": "EzHZ-HfjSWNk"
      },
      "source": [
        "# Russian users analysis"
      ]
    },
    {
      "cell_type": "code",
      "metadata": {
        "id": "LbdFyPEGSZ3J"
      },
      "source": [
        "user_ru = user.loc[user.interface_lang == 'ru']['user_id']\n",
        "event_ru = event[event.user_id.isin(user_ru)][['reaction_id', 'user_id']].groupby('user_id').count().sort_values('reaction_id', ascending = False).rename(columns = {'reaction_id':'count'})"
      ],
      "execution_count": 21,
      "outputs": []
    },
    {
      "cell_type": "code",
      "metadata": {
        "id": "76iGDLb0Sj41",
        "colab": {
          "base_uri": "https://localhost:8080/",
          "height": 228
        },
        "outputId": "5b631743-2fa1-4d23-b6ec-640acc54d234"
      },
      "source": [
        "event_ru.head(5)"
      ],
      "execution_count": 22,
      "outputs": [
        {
          "output_type": "execute_result",
          "data": {
            "text/html": [
              "<div>\n",
              "<style scoped>\n",
              "    .dataframe tbody tr th:only-of-type {\n",
              "        vertical-align: middle;\n",
              "    }\n",
              "\n",
              "    .dataframe tbody tr th {\n",
              "        vertical-align: top;\n",
              "    }\n",
              "\n",
              "    .dataframe thead th {\n",
              "        text-align: right;\n",
              "    }\n",
              "</style>\n",
              "<table border=\"1\" class=\"dataframe\">\n",
              "  <thead>\n",
              "    <tr style=\"text-align: right;\">\n",
              "      <th></th>\n",
              "      <th>count</th>\n",
              "    </tr>\n",
              "    <tr>\n",
              "      <th>user_id</th>\n",
              "      <th></th>\n",
              "    </tr>\n",
              "  </thead>\n",
              "  <tbody>\n",
              "    <tr>\n",
              "      <th>81745542</th>\n",
              "      <td>47066</td>\n",
              "    </tr>\n",
              "    <tr>\n",
              "      <th>366481144</th>\n",
              "      <td>37491</td>\n",
              "    </tr>\n",
              "    <tr>\n",
              "      <th>420302986</th>\n",
              "      <td>33748</td>\n",
              "    </tr>\n",
              "    <tr>\n",
              "      <th>376084050</th>\n",
              "      <td>27982</td>\n",
              "    </tr>\n",
              "    <tr>\n",
              "      <th>1254871249</th>\n",
              "      <td>27550</td>\n",
              "    </tr>\n",
              "  </tbody>\n",
              "</table>\n",
              "</div>"
            ],
            "text/plain": [
              "            count\n",
              "user_id          \n",
              "81745542    47066\n",
              "366481144   37491\n",
              "420302986   33748\n",
              "376084050   27982\n",
              "1254871249  27550"
            ]
          },
          "metadata": {
            "tags": []
          },
          "execution_count": 22
        }
      ]
    },
    {
      "cell_type": "code",
      "metadata": {
        "id": "VvbJPElTSmYd",
        "colab": {
          "base_uri": "https://localhost:8080/"
        },
        "outputId": "41aec8e6-eb9f-4ea7-8968-cd6aadc12f8b"
      },
      "source": [
        "print('Standart deviation: ', event_ru.std()[0])\n",
        "print('Median: ', event_ru.median()[0])\n",
        "print('Mean of memes number: ', event_ru.mean()[0])\n",
        "\n",
        "truncation = len(event_ru)//10 #10% trim\n",
        "print('Trimmed mean: ', event_ru[truncation:][::-1][truncation:].mean()[0])"
      ],
      "execution_count": 34,
      "outputs": [
        {
          "output_type": "stream",
          "text": [
            "Standart deviation:  1154.2435448537656\n",
            "Median:  28.0\n",
            "Mean of memes number:  235.66188334404225\n",
            "Trimmed mean:  64.60096368341215\n"
          ],
          "name": "stdout"
        }
      ]
    },
    {
      "cell_type": "markdown",
      "metadata": {
        "id": "AchGx7DAFdpp"
      },
      "source": [
        "# Users leave analysis"
      ]
    },
    {
      "cell_type": "code",
      "metadata": {
        "id": "Xtv8nJWuVuj8"
      },
      "source": [
        "event['created_at'] = pd.to_datetime(event['created_at'])\n",
        "event['updated_at'] = pd.to_datetime(event['updated_at'])"
      ],
      "execution_count": 44,
      "outputs": []
    },
    {
      "cell_type": "code",
      "metadata": {
        "id": "XUrq4zXNPF4L"
      },
      "source": [
        "dif = event['updated_at'] - event['created_at']\n",
        "time_dif = dif.apply(lambda x: x.total_seconds())"
      ],
      "execution_count": 72,
      "outputs": []
    },
    {
      "cell_type": "code",
      "metadata": {
        "id": "2YtnlaqRGa8L"
      },
      "source": [
        "event['time_difference'] = time_dif"
      ],
      "execution_count": 78,
      "outputs": []
    },
    {
      "cell_type": "code",
      "metadata": {
        "id": "5xk3lq5hN99i"
      },
      "source": [
        ""
      ],
      "execution_count": null,
      "outputs": []
    }
  ]
}