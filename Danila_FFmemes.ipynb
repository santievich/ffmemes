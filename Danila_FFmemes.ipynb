{
  "nbformat": 4,
  "nbformat_minor": 0,
  "metadata": {
    "colab": {
      "name": "Danila FFmemes.ipynb",
      "provenance": [],
      "collapsed_sections": [],
      "toc_visible": true
    },
    "kernelspec": {
      "name": "python3",
      "display_name": "Python 3"
    }
  },
  "cells": [
    {
      "cell_type": "code",
      "metadata": {
        "id": "VDtQjWyHXdgA"
      },
      "source": [
        "import pandas as pd\n",
        "import numpy as np\n",
        "import plotly.express as px\n",
        "import sklearn"
      ],
      "execution_count": 6,
      "outputs": []
    },
    {
      "cell_type": "code",
      "metadata": {
        "id": "CI5qM8QyXlXY"
      },
      "source": [
        "meme = pd.read_csv('drive/My Drive/memeproject/Danila FFmemes/danila_meme.csv')\n",
        "event = pd.read_csv('drive/My Drive/memeproject/Danila FFmemes/danila_event.csv')\n",
        "user = pd.read_csv('drive/My Drive/memeproject/Danila FFmemes/danila_user.csv')"
      ],
      "execution_count": 37,
      "outputs": []
    },
    {
      "cell_type": "markdown",
      "metadata": {
        "id": "hkL_ulxKckUM"
      },
      "source": [
        "# Описания колонок\n",
        "CASE *language_id* WHEN 1 THEN 'ww' WHEN 2 THEN 'ru' WHEN 3 THEN 'en' ELSE null\n"
      ]
    },
    {
      "cell_type": "markdown",
      "metadata": {
        "id": "N3rLrmZZiKoD"
      },
      "source": [
        "# Фичи"
      ]
    },
    {
      "cell_type": "markdown",
      "metadata": {
        "id": "bx8uC4WcjZ3Y"
      },
      "source": [
        "**Избавляемся от сломанных мемов**"
      ]
    },
    {
      "cell_type": "code",
      "metadata": {
        "id": "HbhAAJy_jfUd"
      },
      "source": [
        "meme = meme.loc[meme.is_broken==False]"
      ],
      "execution_count": 38,
      "outputs": []
    },
    {
      "cell_type": "markdown",
      "metadata": {
        "id": "lOvNHvLCivGc"
      },
      "source": [
        "**Сумма лайков паблика**"
      ]
    },
    {
      "cell_type": "code",
      "metadata": {
        "id": "o5hpbisIie5d",
        "colab": {
          "base_uri": "https://localhost:8080/",
          "height": 228
        },
        "outputId": "7bc6a859-8220-4618-f5c1-b562c64418df"
      },
      "source": [
        "source_like = meme[['source_id','likes']].groupby('source_id').sum()\n",
        "source_like.head()"
      ],
      "execution_count": 39,
      "outputs": [
        {
          "output_type": "execute_result",
          "data": {
            "text/html": [
              "<div>\n",
              "<style scoped>\n",
              "    .dataframe tbody tr th:only-of-type {\n",
              "        vertical-align: middle;\n",
              "    }\n",
              "\n",
              "    .dataframe tbody tr th {\n",
              "        vertical-align: top;\n",
              "    }\n",
              "\n",
              "    .dataframe thead th {\n",
              "        text-align: right;\n",
              "    }\n",
              "</style>\n",
              "<table border=\"1\" class=\"dataframe\">\n",
              "  <thead>\n",
              "    <tr style=\"text-align: right;\">\n",
              "      <th></th>\n",
              "      <th>likes</th>\n",
              "    </tr>\n",
              "    <tr>\n",
              "      <th>source_id</th>\n",
              "      <th></th>\n",
              "    </tr>\n",
              "  </thead>\n",
              "  <tbody>\n",
              "    <tr>\n",
              "      <th>1.0</th>\n",
              "      <td>141</td>\n",
              "    </tr>\n",
              "    <tr>\n",
              "      <th>2.0</th>\n",
              "      <td>8753</td>\n",
              "    </tr>\n",
              "    <tr>\n",
              "      <th>3.0</th>\n",
              "      <td>17852</td>\n",
              "    </tr>\n",
              "    <tr>\n",
              "      <th>4.0</th>\n",
              "      <td>17265</td>\n",
              "    </tr>\n",
              "    <tr>\n",
              "      <th>5.0</th>\n",
              "      <td>11334</td>\n",
              "    </tr>\n",
              "  </tbody>\n",
              "</table>\n",
              "</div>"
            ],
            "text/plain": [
              "           likes\n",
              "source_id       \n",
              "1.0          141\n",
              "2.0         8753\n",
              "3.0        17852\n",
              "4.0        17265\n",
              "5.0        11334"
            ]
          },
          "metadata": {
            "tags": []
          },
          "execution_count": 39
        }
      ]
    },
    {
      "cell_type": "markdown",
      "metadata": {
        "id": "Q9Pj2bBVjI27"
      },
      "source": [
        "**Сумма дизлайков паблика**"
      ]
    },
    {
      "cell_type": "code",
      "metadata": {
        "id": "uh5B5UhBi8dc",
        "colab": {
          "base_uri": "https://localhost:8080/",
          "height": 228
        },
        "outputId": "2415b468-c673-4540-cd77-64a802524054"
      },
      "source": [
        "source_dislike = meme[['source_id','dislikes']].groupby('source_id').sum()\n",
        "source_dislike.head()"
      ],
      "execution_count": 40,
      "outputs": [
        {
          "output_type": "execute_result",
          "data": {
            "text/html": [
              "<div>\n",
              "<style scoped>\n",
              "    .dataframe tbody tr th:only-of-type {\n",
              "        vertical-align: middle;\n",
              "    }\n",
              "\n",
              "    .dataframe tbody tr th {\n",
              "        vertical-align: top;\n",
              "    }\n",
              "\n",
              "    .dataframe thead th {\n",
              "        text-align: right;\n",
              "    }\n",
              "</style>\n",
              "<table border=\"1\" class=\"dataframe\">\n",
              "  <thead>\n",
              "    <tr style=\"text-align: right;\">\n",
              "      <th></th>\n",
              "      <th>dislikes</th>\n",
              "    </tr>\n",
              "    <tr>\n",
              "      <th>source_id</th>\n",
              "      <th></th>\n",
              "    </tr>\n",
              "  </thead>\n",
              "  <tbody>\n",
              "    <tr>\n",
              "      <th>1.0</th>\n",
              "      <td>447</td>\n",
              "    </tr>\n",
              "    <tr>\n",
              "      <th>2.0</th>\n",
              "      <td>11876</td>\n",
              "    </tr>\n",
              "    <tr>\n",
              "      <th>3.0</th>\n",
              "      <td>19303</td>\n",
              "    </tr>\n",
              "    <tr>\n",
              "      <th>4.0</th>\n",
              "      <td>27841</td>\n",
              "    </tr>\n",
              "    <tr>\n",
              "      <th>5.0</th>\n",
              "      <td>15323</td>\n",
              "    </tr>\n",
              "  </tbody>\n",
              "</table>\n",
              "</div>"
            ],
            "text/plain": [
              "           dislikes\n",
              "source_id          \n",
              "1.0             447\n",
              "2.0           11876\n",
              "3.0           19303\n",
              "4.0           27841\n",
              "5.0           15323"
            ]
          },
          "metadata": {
            "tags": []
          },
          "execution_count": 40
        }
      ]
    },
    {
      "cell_type": "markdown",
      "metadata": {
        "id": "j6Jm7JaMkA30"
      },
      "source": [
        "**Посчитаем количество лайков пары юзер-источник**"
      ]
    },
    {
      "cell_type": "markdown",
      "metadata": {
        "id": "y5zb31ykkle3"
      },
      "source": [
        "Сопоставим каждому мему его источник"
      ]
    },
    {
      "cell_type": "code",
      "metadata": {
        "id": "urrU7EvrjN2-"
      },
      "source": [
        "event = pd.merge(event, meme[['meme_id','source_id']], on='meme_id')"
      ],
      "execution_count": 41,
      "outputs": []
    },
    {
      "cell_type": "markdown",
      "metadata": {
        "id": "YDJnaEpAmAQK"
      },
      "source": [
        "Таблица лайков юзер-источник"
      ]
    },
    {
      "cell_type": "code",
      "metadata": {
        "id": "4I2bVlcYkVPC",
        "colab": {
          "base_uri": "https://localhost:8080/",
          "height": 228
        },
        "outputId": "20f2656c-6239-42ba-d613-68b6baaa5a97"
      },
      "source": [
        "event.loc[event.reaction_id == 3, 'reaction_id'] = 1\n",
        "user_source_like = event.loc[event.reaction_id == 1][['user_id', 'source_id','reaction_id']].groupby(['user_id', 'source_id']).count()\n",
        "user_source_like.head()"
      ],
      "execution_count": 42,
      "outputs": [
        {
          "output_type": "execute_result",
          "data": {
            "text/html": [
              "<div>\n",
              "<style scoped>\n",
              "    .dataframe tbody tr th:only-of-type {\n",
              "        vertical-align: middle;\n",
              "    }\n",
              "\n",
              "    .dataframe tbody tr th {\n",
              "        vertical-align: top;\n",
              "    }\n",
              "\n",
              "    .dataframe thead th {\n",
              "        text-align: right;\n",
              "    }\n",
              "</style>\n",
              "<table border=\"1\" class=\"dataframe\">\n",
              "  <thead>\n",
              "    <tr style=\"text-align: right;\">\n",
              "      <th></th>\n",
              "      <th></th>\n",
              "      <th>reaction_id</th>\n",
              "    </tr>\n",
              "    <tr>\n",
              "      <th>user_id</th>\n",
              "      <th>source_id</th>\n",
              "      <th></th>\n",
              "    </tr>\n",
              "  </thead>\n",
              "  <tbody>\n",
              "    <tr>\n",
              "      <th rowspan=\"5\" valign=\"top\">1615</th>\n",
              "      <th>8.0</th>\n",
              "      <td>1</td>\n",
              "    </tr>\n",
              "    <tr>\n",
              "      <th>11.0</th>\n",
              "      <td>1</td>\n",
              "    </tr>\n",
              "    <tr>\n",
              "      <th>13.0</th>\n",
              "      <td>2</td>\n",
              "    </tr>\n",
              "    <tr>\n",
              "      <th>18.0</th>\n",
              "      <td>1</td>\n",
              "    </tr>\n",
              "    <tr>\n",
              "      <th>25.0</th>\n",
              "      <td>1</td>\n",
              "    </tr>\n",
              "  </tbody>\n",
              "</table>\n",
              "</div>"
            ],
            "text/plain": [
              "                   reaction_id\n",
              "user_id source_id             \n",
              "1615    8.0                  1\n",
              "        11.0                 1\n",
              "        13.0                 2\n",
              "        18.0                 1\n",
              "        25.0                 1"
            ]
          },
          "metadata": {
            "tags": []
          },
          "execution_count": 42
        }
      ]
    },
    {
      "cell_type": "markdown",
      "metadata": {
        "id": "aT044dJHmGO5"
      },
      "source": [
        "Таблица дизлайков юзер-источник"
      ]
    },
    {
      "cell_type": "code",
      "metadata": {
        "id": "q2LqgcQQkzlL",
        "colab": {
          "base_uri": "https://localhost:8080/",
          "height": 228
        },
        "outputId": "15318c11-145c-4776-9e24-b71cec4916e8"
      },
      "source": [
        "event.loc[event.reaction_id == 4, 'reaction_id'] = 2\n",
        "user_source_dislike = event.loc[event.reaction_id == 2][['user_id', 'source_id','reaction_id']].groupby(['user_id', 'source_id']).count()\n",
        "user_source_dislike.head()"
      ],
      "execution_count": 43,
      "outputs": [
        {
          "output_type": "execute_result",
          "data": {
            "text/html": [
              "<div>\n",
              "<style scoped>\n",
              "    .dataframe tbody tr th:only-of-type {\n",
              "        vertical-align: middle;\n",
              "    }\n",
              "\n",
              "    .dataframe tbody tr th {\n",
              "        vertical-align: top;\n",
              "    }\n",
              "\n",
              "    .dataframe thead th {\n",
              "        text-align: right;\n",
              "    }\n",
              "</style>\n",
              "<table border=\"1\" class=\"dataframe\">\n",
              "  <thead>\n",
              "    <tr style=\"text-align: right;\">\n",
              "      <th></th>\n",
              "      <th></th>\n",
              "      <th>reaction_id</th>\n",
              "    </tr>\n",
              "    <tr>\n",
              "      <th>user_id</th>\n",
              "      <th>source_id</th>\n",
              "      <th></th>\n",
              "    </tr>\n",
              "  </thead>\n",
              "  <tbody>\n",
              "    <tr>\n",
              "      <th rowspan=\"5\" valign=\"top\">1615</th>\n",
              "      <th>3.0</th>\n",
              "      <td>2</td>\n",
              "    </tr>\n",
              "    <tr>\n",
              "      <th>15.0</th>\n",
              "      <td>2</td>\n",
              "    </tr>\n",
              "    <tr>\n",
              "      <th>20.0</th>\n",
              "      <td>2</td>\n",
              "    </tr>\n",
              "    <tr>\n",
              "      <th>27.0</th>\n",
              "      <td>1</td>\n",
              "    </tr>\n",
              "    <tr>\n",
              "      <th>30.0</th>\n",
              "      <td>1</td>\n",
              "    </tr>\n",
              "  </tbody>\n",
              "</table>\n",
              "</div>"
            ],
            "text/plain": [
              "                   reaction_id\n",
              "user_id source_id             \n",
              "1615    3.0                  2\n",
              "        15.0                 2\n",
              "        20.0                 2\n",
              "        27.0                 1\n",
              "        30.0                 1"
            ]
          },
          "metadata": {
            "tags": []
          },
          "execution_count": 43
        }
      ]
    },
    {
      "cell_type": "code",
      "metadata": {
        "id": "2NP68Knkqe_Y"
      },
      "source": [
        ""
      ],
      "execution_count": 43,
      "outputs": []
    },
    {
      "cell_type": "markdown",
      "metadata": {
        "id": "jHN5QnCLDGNo"
      },
      "source": [
        "# План по рек системе\n",
        "\n",
        "## Постановка задачи\n",
        "\n",
        "На вход дается пара (мем, юзер). Задача бинарной классификации: на выход нужно предсказать, понравится (1) ли мем юзеру или нет (0). Можно предсказать вероятность.\n",
        "\n",
        "## Данные\n",
        "\n",
        "Есть таблички events, memes, user-source (тут суперлайк считается за 5 лайков, а удалить считается за 5 дизлайков).\n",
        "Можно делать какую угодно рекомендательную систему.\n",
        "\n",
        "## Анализ данных\n",
        "\n",
        "Список интересных вопросов:\n",
        "\n",
        "• В какой момент юзеры отваливаются\n",
        "• Отличается ли поведение англ/ру юзеров, статистика англ/ру мемов\n",
        "\n",
        "\n",
        "Ниже \"классический\" вариант фич, не учитывающий в явном виде user_id и meme_id:\n",
        "\n",
        "• сумма лайков мема\n",
        "• сумма дизлайков мема\n",
        "• сумма лайков паблика, из которого спарсен мем\n",
        "• сумма дизлайков паблика\n",
        "• сумма лайков пары юзер-паблик\n",
        "• сумма дизлайков пары юзер-паблик\n",
        "• фичи мема: content language, caption language, ...\n",
        "• фичи юзера: язык, origin, ...\n",
        "+ инжинирить новые фичи типа общего кол-ва реакций, лайк-рейта (сумма лайков мема на сумму всех реакций)\n",
        "+ сумма суперлайков, супердизлайков и проч\n",
        "\n",
        "После чего применяем какой-нибудь gradient boosting из коробки (или любую другую модель из sklearn).\n",
        "\n",
        "## Нюансы\n",
        "\n",
        "• Использовать user_id и meme_id как категориальные признаки\n",
        "• Если тренить модель отдельно на каждого юзера, а у конкретного user_id мало просмотренных мемов, модель может плохо предсказывать\n",
        "• Целевая метрика precision = TP/P = TP/(TP+FP). Accuracy тут не нужно.\n",
        "• Имеет смысл сделать отдельную рекомендательную систему для новых юзеров, которые просмотрели мало мемов.\n",
        "\n",
        "## Тесты\n",
        "\n",
        "Дается список из n юзеров, надо предсказать m мемов для каждого в формате csv с колонками user_id, meme_id. После чего они просматривают эти мемы и считается средний лайк-рейт, который сравнивается с текущей рекомендательной системой."
      ]
    },
    {
      "cell_type": "code",
      "metadata": {
        "id": "GqSwE1pjDGzM",
        "colab": {
          "base_uri": "https://localhost:8080/",
          "height": 95
        },
        "outputId": "49c2c007-4cab-4ffd-f628-b9369b6cc90a"
      },
      "source": [
        "event.head(1)"
      ],
      "execution_count": 44,
      "outputs": [
        {
          "output_type": "execute_result",
          "data": {
            "text/html": [
              "<div>\n",
              "<style scoped>\n",
              "    .dataframe tbody tr th:only-of-type {\n",
              "        vertical-align: middle;\n",
              "    }\n",
              "\n",
              "    .dataframe tbody tr th {\n",
              "        vertical-align: top;\n",
              "    }\n",
              "\n",
              "    .dataframe thead th {\n",
              "        text-align: right;\n",
              "    }\n",
              "</style>\n",
              "<table border=\"1\" class=\"dataframe\">\n",
              "  <thead>\n",
              "    <tr style=\"text-align: right;\">\n",
              "      <th></th>\n",
              "      <th>event_id</th>\n",
              "      <th>reaction_id</th>\n",
              "      <th>session_idx</th>\n",
              "      <th>meme_idx</th>\n",
              "      <th>created_at</th>\n",
              "      <th>updated_at</th>\n",
              "      <th>meme_id</th>\n",
              "      <th>user_id</th>\n",
              "      <th>source_id</th>\n",
              "    </tr>\n",
              "  </thead>\n",
              "  <tbody>\n",
              "    <tr>\n",
              "      <th>0</th>\n",
              "      <td>3607617</td>\n",
              "      <td>2.0</td>\n",
              "      <td>55</td>\n",
              "      <td>11</td>\n",
              "      <td>2020-10-24 19:45:50.964474+00</td>\n",
              "      <td>2020-10-24 19:45:51.049752+00</td>\n",
              "      <td>24379</td>\n",
              "      <td>280747086</td>\n",
              "      <td>45.0</td>\n",
              "    </tr>\n",
              "  </tbody>\n",
              "</table>\n",
              "</div>"
            ],
            "text/plain": [
              "   event_id  reaction_id  session_idx  ...  meme_id    user_id source_id\n",
              "0   3607617          2.0           55  ...    24379  280747086      45.0\n",
              "\n",
              "[1 rows x 9 columns]"
            ]
          },
          "metadata": {
            "tags": []
          },
          "execution_count": 44
        }
      ]
    },
    {
      "cell_type": "code",
      "metadata": {
        "id": "goxAVZ1fGsWV",
        "colab": {
          "base_uri": "https://localhost:8080/",
          "height": 115
        },
        "outputId": "34842863-acca-4b64-ee2c-6237c8255e12"
      },
      "source": [
        "user.head(1)"
      ],
      "execution_count": 45,
      "outputs": [
        {
          "output_type": "execute_result",
          "data": {
            "text/html": [
              "<div>\n",
              "<style scoped>\n",
              "    .dataframe tbody tr th:only-of-type {\n",
              "        vertical-align: middle;\n",
              "    }\n",
              "\n",
              "    .dataframe tbody tr th {\n",
              "        vertical-align: top;\n",
              "    }\n",
              "\n",
              "    .dataframe thead th {\n",
              "        text-align: right;\n",
              "    }\n",
              "</style>\n",
              "<table border=\"1\" class=\"dataframe\">\n",
              "  <thead>\n",
              "    <tr style=\"text-align: right;\">\n",
              "      <th></th>\n",
              "      <th>user_id</th>\n",
              "      <th>deep_link</th>\n",
              "      <th>is_blocked_bot</th>\n",
              "      <th>is_banned</th>\n",
              "      <th>is_moderator</th>\n",
              "      <th>sessions</th>\n",
              "      <th>last_session_memes</th>\n",
              "      <th>watched_memes</th>\n",
              "      <th>created_at</th>\n",
              "      <th>updated_at</th>\n",
              "      <th>interface_lang</th>\n",
              "      <th>gender</th>\n",
              "    </tr>\n",
              "  </thead>\n",
              "  <tbody>\n",
              "    <tr>\n",
              "      <th>0</th>\n",
              "      <td>820326025</td>\n",
              "      <td>anime0ch_lang_ru</td>\n",
              "      <td>False</td>\n",
              "      <td>False</td>\n",
              "      <td>False</td>\n",
              "      <td>6</td>\n",
              "      <td>1</td>\n",
              "      <td>20</td>\n",
              "      <td>2020-09-12 20:07:11.668743+00</td>\n",
              "      <td>2020-10-26 12:16:18.458654+00</td>\n",
              "      <td>ru</td>\n",
              "      <td>M</td>\n",
              "    </tr>\n",
              "  </tbody>\n",
              "</table>\n",
              "</div>"
            ],
            "text/plain": [
              "     user_id         deep_link  ...  interface_lang  gender\n",
              "0  820326025  anime0ch_lang_ru  ...              ru       M\n",
              "\n",
              "[1 rows x 12 columns]"
            ]
          },
          "metadata": {
            "tags": []
          },
          "execution_count": 45
        }
      ]
    },
    {
      "cell_type": "code",
      "metadata": {
        "id": "nE5kvxcDGxY3",
        "colab": {
          "base_uri": "https://localhost:8080/",
          "height": 150
        },
        "outputId": "80980b5b-f573-4e90-9c80-8bc1582768db"
      },
      "source": [
        "meme.head(1)"
      ],
      "execution_count": 46,
      "outputs": [
        {
          "output_type": "execute_result",
          "data": {
            "text/html": [
              "<div>\n",
              "<style scoped>\n",
              "    .dataframe tbody tr th:only-of-type {\n",
              "        vertical-align: middle;\n",
              "    }\n",
              "\n",
              "    .dataframe tbody tr th {\n",
              "        vertical-align: top;\n",
              "    }\n",
              "\n",
              "    .dataframe thead th {\n",
              "        text-align: right;\n",
              "    }\n",
              "</style>\n",
              "<table border=\"1\" class=\"dataframe\">\n",
              "  <thead>\n",
              "    <tr style=\"text-align: right;\">\n",
              "      <th></th>\n",
              "      <th>meme_id</th>\n",
              "      <th>meme_type</th>\n",
              "      <th>source_id</th>\n",
              "      <th>published_at</th>\n",
              "      <th>caption</th>\n",
              "      <th>content_lang</th>\n",
              "      <th>is_available</th>\n",
              "      <th>likes</th>\n",
              "      <th>dislikes</th>\n",
              "      <th>created_at</th>\n",
              "      <th>updated_at</th>\n",
              "      <th>is_broken</th>\n",
              "      <th>content_text</th>\n",
              "      <th>caption_lang</th>\n",
              "      <th>language_id</th>\n",
              "    </tr>\n",
              "  </thead>\n",
              "  <tbody>\n",
              "    <tr>\n",
              "      <th>0</th>\n",
              "      <td>28997</td>\n",
              "      <td>photo</td>\n",
              "      <td>79.0</td>\n",
              "      <td>2020-04-12 01:48:13+00</td>\n",
              "      <td>I mean shitt it ain't their fault</td>\n",
              "      <td>en</td>\n",
              "      <td>True</td>\n",
              "      <td>17</td>\n",
              "      <td>14</td>\n",
              "      <td>2020-04-12 09:04:37.341908+00</td>\n",
              "      <td>2020-10-26 19:20:58.198825+00</td>\n",
              "      <td>False</td>\n",
              "      <td>brandon @brndvx females live on recruit diffic...</td>\n",
              "      <td>en</td>\n",
              "      <td>3.0</td>\n",
              "    </tr>\n",
              "  </tbody>\n",
              "</table>\n",
              "</div>"
            ],
            "text/plain": [
              "   meme_id meme_type  ...  caption_lang language_id\n",
              "0    28997     photo  ...            en         3.0\n",
              "\n",
              "[1 rows x 15 columns]"
            ]
          },
          "metadata": {
            "tags": []
          },
          "execution_count": 46
        }
      ]
    },
    {
      "cell_type": "markdown",
      "metadata": {
        "id": "--eIAmfHMXSf"
      },
      "source": [
        "Количество просмотренных мемов"
      ]
    },
    {
      "cell_type": "code",
      "metadata": {
        "id": "grIHCsJPGyNP",
        "colab": {
          "base_uri": "https://localhost:8080/",
          "height": 528
        },
        "outputId": "366e1283-4a8c-40c9-b4c3-1a396015f417"
      },
      "source": [
        "event[['reaction_id', 'user_id']].groupby('user_id').count().sort_values('reaction_id', ascending = False).head(15)"
      ],
      "execution_count": 47,
      "outputs": [
        {
          "output_type": "execute_result",
          "data": {
            "text/html": [
              "<div>\n",
              "<style scoped>\n",
              "    .dataframe tbody tr th:only-of-type {\n",
              "        vertical-align: middle;\n",
              "    }\n",
              "\n",
              "    .dataframe tbody tr th {\n",
              "        vertical-align: top;\n",
              "    }\n",
              "\n",
              "    .dataframe thead th {\n",
              "        text-align: right;\n",
              "    }\n",
              "</style>\n",
              "<table border=\"1\" class=\"dataframe\">\n",
              "  <thead>\n",
              "    <tr style=\"text-align: right;\">\n",
              "      <th></th>\n",
              "      <th>reaction_id</th>\n",
              "    </tr>\n",
              "    <tr>\n",
              "      <th>user_id</th>\n",
              "      <th></th>\n",
              "    </tr>\n",
              "  </thead>\n",
              "  <tbody>\n",
              "    <tr>\n",
              "      <th>81745542</th>\n",
              "      <td>47066</td>\n",
              "    </tr>\n",
              "    <tr>\n",
              "      <th>366481144</th>\n",
              "      <td>37491</td>\n",
              "    </tr>\n",
              "    <tr>\n",
              "      <th>431589633</th>\n",
              "      <td>36363</td>\n",
              "    </tr>\n",
              "    <tr>\n",
              "      <th>420302986</th>\n",
              "      <td>33748</td>\n",
              "    </tr>\n",
              "    <tr>\n",
              "      <th>376084050</th>\n",
              "      <td>27982</td>\n",
              "    </tr>\n",
              "    <tr>\n",
              "      <th>1254871249</th>\n",
              "      <td>27550</td>\n",
              "    </tr>\n",
              "    <tr>\n",
              "      <th>211921528</th>\n",
              "      <td>23956</td>\n",
              "    </tr>\n",
              "    <tr>\n",
              "      <th>936739890</th>\n",
              "      <td>23518</td>\n",
              "    </tr>\n",
              "    <tr>\n",
              "      <th>248960545</th>\n",
              "      <td>23394</td>\n",
              "    </tr>\n",
              "    <tr>\n",
              "      <th>233267520</th>\n",
              "      <td>22742</td>\n",
              "    </tr>\n",
              "    <tr>\n",
              "      <th>245981606</th>\n",
              "      <td>22447</td>\n",
              "    </tr>\n",
              "    <tr>\n",
              "      <th>137136029</th>\n",
              "      <td>21757</td>\n",
              "    </tr>\n",
              "    <tr>\n",
              "      <th>639048323</th>\n",
              "      <td>19485</td>\n",
              "    </tr>\n",
              "    <tr>\n",
              "      <th>541638190</th>\n",
              "      <td>18669</td>\n",
              "    </tr>\n",
              "    <tr>\n",
              "      <th>285739883</th>\n",
              "      <td>17451</td>\n",
              "    </tr>\n",
              "  </tbody>\n",
              "</table>\n",
              "</div>"
            ],
            "text/plain": [
              "            reaction_id\n",
              "user_id                \n",
              "81745542          47066\n",
              "366481144         37491\n",
              "431589633         36363\n",
              "420302986         33748\n",
              "376084050         27982\n",
              "1254871249        27550\n",
              "211921528         23956\n",
              "936739890         23518\n",
              "248960545         23394\n",
              "233267520         22742\n",
              "245981606         22447\n",
              "137136029         21757\n",
              "639048323         19485\n",
              "541638190         18669\n",
              "285739883         17451"
            ]
          },
          "metadata": {
            "tags": []
          },
          "execution_count": 47
        }
      ]
    },
    {
      "cell_type": "markdown",
      "metadata": {
        "id": "hbFawkdLQH9b"
      },
      "source": [
        "## Анализ англоговорящих сессий"
      ]
    },
    {
      "cell_type": "code",
      "metadata": {
        "id": "AoVDIAsPRM74"
      },
      "source": [
        "user_en = user.loc[user.interface_lang == 'en']['user_id']\n",
        "event_en = event[event.user_id.isin(user_en)][['reaction_id', 'user_id']].groupby('user_id').count().sort_values('reaction_id', ascending = False).rename(columns = {'reaction_id':'count'})"
      ],
      "execution_count": 48,
      "outputs": []
    },
    {
      "cell_type": "code",
      "metadata": {
        "id": "WRVzQLYFMnya",
        "colab": {
          "base_uri": "https://localhost:8080/",
          "height": 228
        },
        "outputId": "999f2ba1-bf5d-4cbe-f2b8-1f8b41376356"
      },
      "source": [
        "event_en.head(5)"
      ],
      "execution_count": 49,
      "outputs": [
        {
          "output_type": "execute_result",
          "data": {
            "text/html": [
              "<div>\n",
              "<style scoped>\n",
              "    .dataframe tbody tr th:only-of-type {\n",
              "        vertical-align: middle;\n",
              "    }\n",
              "\n",
              "    .dataframe tbody tr th {\n",
              "        vertical-align: top;\n",
              "    }\n",
              "\n",
              "    .dataframe thead th {\n",
              "        text-align: right;\n",
              "    }\n",
              "</style>\n",
              "<table border=\"1\" class=\"dataframe\">\n",
              "  <thead>\n",
              "    <tr style=\"text-align: right;\">\n",
              "      <th></th>\n",
              "      <th>count</th>\n",
              "    </tr>\n",
              "    <tr>\n",
              "      <th>user_id</th>\n",
              "      <th></th>\n",
              "    </tr>\n",
              "  </thead>\n",
              "  <tbody>\n",
              "    <tr>\n",
              "      <th>431589633</th>\n",
              "      <td>36363</td>\n",
              "    </tr>\n",
              "    <tr>\n",
              "      <th>941088926</th>\n",
              "      <td>4605</td>\n",
              "    </tr>\n",
              "    <tr>\n",
              "      <th>1150038020</th>\n",
              "      <td>3951</td>\n",
              "    </tr>\n",
              "    <tr>\n",
              "      <th>544090166</th>\n",
              "      <td>3871</td>\n",
              "    </tr>\n",
              "    <tr>\n",
              "      <th>1153477714</th>\n",
              "      <td>3493</td>\n",
              "    </tr>\n",
              "  </tbody>\n",
              "</table>\n",
              "</div>"
            ],
            "text/plain": [
              "            count\n",
              "user_id          \n",
              "431589633   36363\n",
              "941088926    4605\n",
              "1150038020   3951\n",
              "544090166    3871\n",
              "1153477714   3493"
            ]
          },
          "metadata": {
            "tags": []
          },
          "execution_count": 49
        }
      ]
    },
    {
      "cell_type": "code",
      "metadata": {
        "id": "d55nIGWuM5g7",
        "colab": {
          "base_uri": "https://localhost:8080/"
        },
        "outputId": "842ccfac-5462-4891-a59e-0c6db7e47736"
      },
      "source": [
        "print('Среднеквадратичное отклонение: ', event_en.std()[0])\n",
        "print('Медиана: ', event_en.median()[0])\n",
        "print('Среднее количество просмотренных мемов: ', event_en.mean()[0])\n",
        "\n",
        "truncation = len(event_en)//10 #усечение на 10%\n",
        "print('Среднее усеченное количество просмотренных мемов: ', event_en[truncation:][::-1][truncation:].mean()[0])"
      ],
      "execution_count": 71,
      "outputs": [
        {
          "output_type": "stream",
          "text": [
            "Среднеквадратичное отклонение:  517.7767110304451\n",
            "Медиана:  10.0\n",
            "Среднее количество просмотренных мемов:  47.53766279479056\n",
            "Среднее усеченное количество просмотренных мемов:  14.84469863616366\n"
          ],
          "name": "stdout"
        }
      ]
    },
    {
      "cell_type": "code",
      "metadata": {
        "id": "pSPng6nUQXui",
        "colab": {
          "base_uri": "https://localhost:8080/"
        },
        "outputId": "309c094b-91ed-4b09-99aa-e5919a0a98c2"
      },
      "source": [
        "event_en.value_counts().head(15)"
      ],
      "execution_count": 53,
      "outputs": [
        {
          "output_type": "execute_result",
          "data": {
            "text/plain": [
              "count\n",
              "3        356\n",
              "4        329\n",
              "6        314\n",
              "5        304\n",
              "7        287\n",
              "2        260\n",
              "0        235\n",
              "8        222\n",
              "1        218\n",
              "9        186\n",
              "11       182\n",
              "10       170\n",
              "13       154\n",
              "12       149\n",
              "14       125\n",
              "dtype: int64"
            ]
          },
          "metadata": {
            "tags": []
          },
          "execution_count": 53
        }
      ]
    },
    {
      "cell_type": "markdown",
      "metadata": {
        "id": "EzHZ-HfjSWNk"
      },
      "source": [
        "## Анализ русскоговорящих сессий"
      ]
    },
    {
      "cell_type": "code",
      "metadata": {
        "id": "LbdFyPEGSZ3J"
      },
      "source": [
        "user_ru = user.loc[user.interface_lang == 'ru']['user_id']\n",
        "event_ru = event[event.user_id.isin(user_ru)][['reaction_id', 'user_id']].groupby('user_id').count().sort_values('reaction_id', ascending = False).rename(columns = {'reaction_id':'count'})"
      ],
      "execution_count": 54,
      "outputs": []
    },
    {
      "cell_type": "code",
      "metadata": {
        "id": "76iGDLb0Sj41",
        "colab": {
          "base_uri": "https://localhost:8080/",
          "height": 228
        },
        "outputId": "606f7696-c791-481f-8c3f-3af1cfb6272c"
      },
      "source": [
        "event_ru.head(5)"
      ],
      "execution_count": 55,
      "outputs": [
        {
          "output_type": "execute_result",
          "data": {
            "text/html": [
              "<div>\n",
              "<style scoped>\n",
              "    .dataframe tbody tr th:only-of-type {\n",
              "        vertical-align: middle;\n",
              "    }\n",
              "\n",
              "    .dataframe tbody tr th {\n",
              "        vertical-align: top;\n",
              "    }\n",
              "\n",
              "    .dataframe thead th {\n",
              "        text-align: right;\n",
              "    }\n",
              "</style>\n",
              "<table border=\"1\" class=\"dataframe\">\n",
              "  <thead>\n",
              "    <tr style=\"text-align: right;\">\n",
              "      <th></th>\n",
              "      <th>count</th>\n",
              "    </tr>\n",
              "    <tr>\n",
              "      <th>user_id</th>\n",
              "      <th></th>\n",
              "    </tr>\n",
              "  </thead>\n",
              "  <tbody>\n",
              "    <tr>\n",
              "      <th>81745542</th>\n",
              "      <td>47066</td>\n",
              "    </tr>\n",
              "    <tr>\n",
              "      <th>366481144</th>\n",
              "      <td>37491</td>\n",
              "    </tr>\n",
              "    <tr>\n",
              "      <th>420302986</th>\n",
              "      <td>33748</td>\n",
              "    </tr>\n",
              "    <tr>\n",
              "      <th>376084050</th>\n",
              "      <td>27982</td>\n",
              "    </tr>\n",
              "    <tr>\n",
              "      <th>1254871249</th>\n",
              "      <td>27550</td>\n",
              "    </tr>\n",
              "  </tbody>\n",
              "</table>\n",
              "</div>"
            ],
            "text/plain": [
              "            count\n",
              "user_id          \n",
              "81745542    47066\n",
              "366481144   37491\n",
              "420302986   33748\n",
              "376084050   27982\n",
              "1254871249  27550"
            ]
          },
          "metadata": {
            "tags": []
          },
          "execution_count": 55
        }
      ]
    },
    {
      "cell_type": "code",
      "metadata": {
        "id": "VvbJPElTSmYd",
        "colab": {
          "base_uri": "https://localhost:8080/"
        },
        "outputId": "a1a4e82c-9941-4f07-bf36-8bcec71e9ef4"
      },
      "source": [
        "print('Среднеквадратичное отклонение: ', event_ru.std()[0])\n",
        "print('Медиана: ', event_ru.median()[0])\n",
        "print('Среднее количество просмотренных мемов: ', event_ru.mean()[0])\n",
        "\n",
        "truncation = len(event_ru)//10 #усечение на 10%\n",
        "print('Среднее усеченное количество просмотренных мемов: ', event_ru[truncation:][::-1][truncation:].mean()[0])"
      ],
      "execution_count": 69,
      "outputs": [
        {
          "output_type": "stream",
          "text": [
            "Среднеквадратичное отклонение:  1154.2435448537656\n",
            "Медиана:  28.0\n",
            "Среднее количество просмотренных мемов:  235.66188334404225\n",
            "Среднее усеченное количество просмотренных мемов:  64.60096368341215\n"
          ],
          "name": "stdout"
        }
      ]
    },
    {
      "cell_type": "code",
      "metadata": {
        "id": "jWyV4CTRSr1w",
        "colab": {
          "base_uri": "https://localhost:8080/"
        },
        "outputId": "a4f6262e-0da9-48ae-d6ac-a5ef5657cf96"
      },
      "source": [
        "event_ru.value_counts().head(15)"
      ],
      "execution_count": 59,
      "outputs": [
        {
          "output_type": "execute_result",
          "data": {
            "text/plain": [
              "count\n",
              "0        434\n",
              "3        382\n",
              "4        368\n",
              "1        330\n",
              "5        330\n",
              "8        323\n",
              "6        319\n",
              "19       306\n",
              "20       295\n",
              "2        291\n",
              "9        290\n",
              "14       280\n",
              "7        261\n",
              "10       249\n",
              "15       236\n",
              "dtype: int64"
            ]
          },
          "metadata": {
            "tags": []
          },
          "execution_count": 59
        }
      ]
    },
    {
      "cell_type": "code",
      "metadata": {
        "id": "TZwyfu_sStbd"
      },
      "source": [
        ""
      ],
      "execution_count": 59,
      "outputs": []
    },
    {
      "cell_type": "code",
      "metadata": {
        "colab": {
          "base_uri": "https://localhost:8080/",
          "height": 600
        },
        "id": "GorZRJqHSWST",
        "outputId": "e5dbe191-b644-4216-86f2-5cd00b9f10f8"
      },
      "source": [
        "user"
      ],
      "execution_count": 60,
      "outputs": [
        {
          "output_type": "execute_result",
          "data": {
            "text/html": [
              "<div>\n",
              "<style scoped>\n",
              "    .dataframe tbody tr th:only-of-type {\n",
              "        vertical-align: middle;\n",
              "    }\n",
              "\n",
              "    .dataframe tbody tr th {\n",
              "        vertical-align: top;\n",
              "    }\n",
              "\n",
              "    .dataframe thead th {\n",
              "        text-align: right;\n",
              "    }\n",
              "</style>\n",
              "<table border=\"1\" class=\"dataframe\">\n",
              "  <thead>\n",
              "    <tr style=\"text-align: right;\">\n",
              "      <th></th>\n",
              "      <th>user_id</th>\n",
              "      <th>deep_link</th>\n",
              "      <th>is_blocked_bot</th>\n",
              "      <th>is_banned</th>\n",
              "      <th>is_moderator</th>\n",
              "      <th>sessions</th>\n",
              "      <th>last_session_memes</th>\n",
              "      <th>watched_memes</th>\n",
              "      <th>created_at</th>\n",
              "      <th>updated_at</th>\n",
              "      <th>interface_lang</th>\n",
              "      <th>gender</th>\n",
              "    </tr>\n",
              "  </thead>\n",
              "  <tbody>\n",
              "    <tr>\n",
              "      <th>0</th>\n",
              "      <td>820326025</td>\n",
              "      <td>anime0ch_lang_ru</td>\n",
              "      <td>False</td>\n",
              "      <td>False</td>\n",
              "      <td>False</td>\n",
              "      <td>6</td>\n",
              "      <td>1</td>\n",
              "      <td>20</td>\n",
              "      <td>2020-09-12 20:07:11.668743+00</td>\n",
              "      <td>2020-10-26 12:16:18.458654+00</td>\n",
              "      <td>ru</td>\n",
              "      <td>M</td>\n",
              "    </tr>\n",
              "    <tr>\n",
              "      <th>1</th>\n",
              "      <td>1040875164</td>\n",
              "      <td>likemeupbot_lang_en</td>\n",
              "      <td>False</td>\n",
              "      <td>False</td>\n",
              "      <td>False</td>\n",
              "      <td>2</td>\n",
              "      <td>1</td>\n",
              "      <td>7</td>\n",
              "      <td>2020-07-21 05:54:12.671036+00</td>\n",
              "      <td>2020-10-26 14:37:05.637591+00</td>\n",
              "      <td>en</td>\n",
              "      <td>NaN</td>\n",
              "    </tr>\n",
              "    <tr>\n",
              "      <th>2</th>\n",
              "      <td>449432539</td>\n",
              "      <td>debil_ebaniy</td>\n",
              "      <td>True</td>\n",
              "      <td>False</td>\n",
              "      <td>False</td>\n",
              "      <td>2</td>\n",
              "      <td>1</td>\n",
              "      <td>9</td>\n",
              "      <td>2020-09-14 19:02:06.80911+00</td>\n",
              "      <td>2020-10-17 21:26:52.029824+00</td>\n",
              "      <td>ru</td>\n",
              "      <td>F</td>\n",
              "    </tr>\n",
              "    <tr>\n",
              "      <th>3</th>\n",
              "      <td>230248850</td>\n",
              "      <td>NaN</td>\n",
              "      <td>False</td>\n",
              "      <td>False</td>\n",
              "      <td>False</td>\n",
              "      <td>26</td>\n",
              "      <td>1</td>\n",
              "      <td>38</td>\n",
              "      <td>2020-03-16 00:36:42.252438+00</td>\n",
              "      <td>2020-10-26 12:11:02.159405+00</td>\n",
              "      <td>ru</td>\n",
              "      <td>M</td>\n",
              "    </tr>\n",
              "    <tr>\n",
              "      <th>4</th>\n",
              "      <td>7719424</td>\n",
              "      <td>NaN</td>\n",
              "      <td>True</td>\n",
              "      <td>False</td>\n",
              "      <td>False</td>\n",
              "      <td>27</td>\n",
              "      <td>6</td>\n",
              "      <td>49</td>\n",
              "      <td>2020-03-15 22:30:45.300242+00</td>\n",
              "      <td>2020-10-17 21:26:52.19941+00</td>\n",
              "      <td>ru</td>\n",
              "      <td>M</td>\n",
              "    </tr>\n",
              "    <tr>\n",
              "      <th>...</th>\n",
              "      <td>...</td>\n",
              "      <td>...</td>\n",
              "      <td>...</td>\n",
              "      <td>...</td>\n",
              "      <td>...</td>\n",
              "      <td>...</td>\n",
              "      <td>...</td>\n",
              "      <td>...</td>\n",
              "      <td>...</td>\n",
              "      <td>...</td>\n",
              "      <td>...</td>\n",
              "      <td>...</td>\n",
              "    </tr>\n",
              "    <tr>\n",
              "      <th>19913</th>\n",
              "      <td>184147840</td>\n",
              "      <td>NaN</td>\n",
              "      <td>False</td>\n",
              "      <td>False</td>\n",
              "      <td>False</td>\n",
              "      <td>51</td>\n",
              "      <td>67</td>\n",
              "      <td>2564</td>\n",
              "      <td>2020-10-05 06:47:49.485552+00</td>\n",
              "      <td>2020-10-26 19:39:54.897219+00</td>\n",
              "      <td>ru</td>\n",
              "      <td>NaN</td>\n",
              "    </tr>\n",
              "    <tr>\n",
              "      <th>19914</th>\n",
              "      <td>663303657</td>\n",
              "      <td>ffmemescom</td>\n",
              "      <td>False</td>\n",
              "      <td>False</td>\n",
              "      <td>False</td>\n",
              "      <td>1</td>\n",
              "      <td>79</td>\n",
              "      <td>79</td>\n",
              "      <td>2020-10-26 19:41:43.90702+00</td>\n",
              "      <td>2020-10-26 19:58:41.257713+00</td>\n",
              "      <td>en</td>\n",
              "      <td>NaN</td>\n",
              "    </tr>\n",
              "    <tr>\n",
              "      <th>19915</th>\n",
              "      <td>761418142</td>\n",
              "      <td>popytki_lang_ru</td>\n",
              "      <td>False</td>\n",
              "      <td>False</td>\n",
              "      <td>False</td>\n",
              "      <td>14</td>\n",
              "      <td>21</td>\n",
              "      <td>372</td>\n",
              "      <td>2020-09-30 13:31:29.322251+00</td>\n",
              "      <td>2020-10-26 19:59:29.646093+00</td>\n",
              "      <td>ru</td>\n",
              "      <td>NaN</td>\n",
              "    </tr>\n",
              "    <tr>\n",
              "      <th>19916</th>\n",
              "      <td>669142397</td>\n",
              "      <td>ffmemescom</td>\n",
              "      <td>False</td>\n",
              "      <td>False</td>\n",
              "      <td>False</td>\n",
              "      <td>1</td>\n",
              "      <td>33</td>\n",
              "      <td>33</td>\n",
              "      <td>2020-10-26 19:52:20.815557+00</td>\n",
              "      <td>2020-10-26 19:59:39.199266+00</td>\n",
              "      <td>en</td>\n",
              "      <td>NaN</td>\n",
              "    </tr>\n",
              "    <tr>\n",
              "      <th>19917</th>\n",
              "      <td>1952378</td>\n",
              "      <td>NaN</td>\n",
              "      <td>False</td>\n",
              "      <td>False</td>\n",
              "      <td>False</td>\n",
              "      <td>1</td>\n",
              "      <td>8</td>\n",
              "      <td>8</td>\n",
              "      <td>2020-10-26 19:55:57.146836+00</td>\n",
              "      <td>2020-10-26 19:57:43.110012+00</td>\n",
              "      <td>ru</td>\n",
              "      <td>NaN</td>\n",
              "    </tr>\n",
              "  </tbody>\n",
              "</table>\n",
              "<p>19918 rows × 12 columns</p>\n",
              "</div>"
            ],
            "text/plain": [
              "          user_id            deep_link  ...  interface_lang  gender\n",
              "0       820326025     anime0ch_lang_ru  ...              ru       M\n",
              "1      1040875164  likemeupbot_lang_en  ...              en     NaN\n",
              "2       449432539         debil_ebaniy  ...              ru       F\n",
              "3       230248850                  NaN  ...              ru       M\n",
              "4         7719424                  NaN  ...              ru       M\n",
              "...           ...                  ...  ...             ...     ...\n",
              "19913   184147840                  NaN  ...              ru     NaN\n",
              "19914   663303657           ffmemescom  ...              en     NaN\n",
              "19915   761418142      popytki_lang_ru  ...              ru     NaN\n",
              "19916   669142397           ffmemescom  ...              en     NaN\n",
              "19917     1952378                  NaN  ...              ru     NaN\n",
              "\n",
              "[19918 rows x 12 columns]"
            ]
          },
          "metadata": {
            "tags": []
          },
          "execution_count": 60
        }
      ]
    },
    {
      "cell_type": "markdown",
      "metadata": {
        "id": "2AbdQOH7VB0G"
      },
      "source": [
        "## Выводы"
      ]
    },
    {
      "cell_type": "code",
      "metadata": {
        "id": "3J-S8TgsVFfc",
        "colab": {
          "base_uri": "https://localhost:8080/"
        },
        "outputId": "aac8390b-5c64-4833-c4b3-ca787c9cdbdf"
      },
      "source": [
        "print('EN юзеров',event_en.shape[0],'\\nRU юзеров', event_ru.shape[0])"
      ],
      "execution_count": 61,
      "outputs": [
        {
          "output_type": "stream",
          "text": [
            "EN юзеров 5682 \n",
            "RU юзеров 14007\n"
          ],
          "name": "stdout"
        }
      ]
    },
    {
      "cell_type": "code",
      "metadata": {
        "id": "V3-GwxpbVKhK",
        "colab": {
          "base_uri": "https://localhost:8080/"
        },
        "outputId": "3c96ccf8-7963-402f-8878-11d77bc3a5bd"
      },
      "source": [
        "print('Среднее количество просмотренных мемов разнится на', abs(int(event_ru.mean()[0]-event_en.mean()[0])))"
      ],
      "execution_count": 62,
      "outputs": [
        {
          "output_type": "stream",
          "text": [
            "Среднее количество просмотренных мемов разнится на 188\n"
          ],
          "name": "stdout"
        }
      ]
    },
    {
      "cell_type": "code",
      "metadata": {
        "id": "Xtv8nJWuVuj8"
      },
      "source": [
        ""
      ],
      "execution_count": 62,
      "outputs": []
    },
    {
      "cell_type": "code",
      "metadata": {
        "id": "XUrq4zXNPF4L"
      },
      "source": [
        ""
      ],
      "execution_count": 62,
      "outputs": []
    }
  ]
}