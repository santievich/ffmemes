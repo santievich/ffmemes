{
 "cells": [
  {
   "cell_type": "code",
   "execution_count": 1,
   "metadata": {},
   "outputs": [],
   "source": [
    "import pandas as pd\n",
    "import numpy as np\n",
    "import plotly.express as px\n",
    "import sklearn"
   ]
  },
  {
   "cell_type": "code",
   "execution_count": 2,
   "metadata": {},
   "outputs": [],
   "source": [
    "meme = pd.read_csv('danila_meme.csv')\n",
    "event = pd.read_csv('danila_event.csv')\n",
    "user = pd.read_csv('danila_user.csv')"
   ]
  },
  {
   "cell_type": "code",
   "execution_count": 102,
   "metadata": {},
   "outputs": [],
   "source": [
    "class user_data:\n",
    "    \n",
    "    def __init__(self, users, memes, events):\n",
    "        self.users = users\n",
    "        self.memes = memes\n",
    "        self.events = events\n",
    "        \n",
    "    def like_rate_user(self, user_id, meme_id):\n",
    "        '''\n",
    "        Функция поиска лайкрейта юзера\n",
    "        Если нет дизлайков, то ставим в лайкрейт сумму лайков\n",
    "        '''\n",
    "        events = self.events\n",
    "        condition_likes = ((events.reaction_id==1)&(events.user_id==user_id)&(events.meme_id==meme_id))\n",
    "        condition_dislikes = ((events.reaction_id==2)&(events.user_id==user_id)&(events.meme_id==meme_id))\n",
    "        likes = events.loc[condition_likes, 'reaction_id'].count()\n",
    "        dislikes = events.loc[condition_dislikes, 'reaction_id'].count()\n",
    "        ratio = likes/dislikes if dislikes > 0 else likes\n",
    "        return ratio\n",
    "    \n",
    "    def like_rate_meme(self, meme_id):\n",
    "        '''\n",
    "        Функция поиска лайкрейта мема\n",
    "        Если нет дизлайков, то ставим в лайкрейт сумму лайков\n",
    "        '''\n",
    "        memes = self.memes\n",
    "        condition = (memes.meme_id==meme_id)\n",
    "        meme_row = memes.loc[condition]\n",
    "        likes = meme_row['likes'].values\n",
    "        dislikes = meme_row['dislikes'].values\n",
    "        ratio = likes/dislikes if dislikes > 0 else likes\n",
    "        return ratio[0]\n",
    "    \n",
    "    def user_likes_for_types(self, user_id):\n",
    "        events = self.events\n",
    "        memes = self.memes\n",
    "        types = sorted(self.memes['meme_type'].unique())\n",
    "        events = events.loc[events.user_id==user_id]\n",
    "        meme_ids = events.meme_id.unique()\n",
    "        memes = memes.loc[memes.meme_id.isin(meme_ids), ['meme_type', 'meme_id']]\n",
    "        events = pd.merge(events, memes, on='meme_id')\n",
    "        res = []# лайки-дизлайки для каждого типа мема\n",
    "        for t in types:\n",
    "            for i in range(1,3): #реакции 1, 2\n",
    "                val = events.loc[(events.meme_type==t)&(events.reaction_id==i), 'reaction_id'].count()\n",
    "                res.append(val)\n",
    "        return res"
   ]
  },
  {
   "cell_type": "code",
   "execution_count": 103,
   "metadata": {},
   "outputs": [
    {
     "data": {
      "text/plain": [
       "[7, 9, 3294, 982, 21, 38]"
      ]
     },
     "execution_count": 103,
     "metadata": {},
     "output_type": "execute_result"
    }
   ],
   "source": [
    "data = user_data(user, meme, event)\n",
    "data.user_likes_for_types(280747086)"
   ]
  },
  {
   "cell_type": "code",
   "execution_count": null,
   "metadata": {},
   "outputs": [],
   "source": []
  }
 ],
 "metadata": {
  "kernelspec": {
   "display_name": "Python 3",
   "language": "python",
   "name": "python3"
  },
  "language_info": {
   "codemirror_mode": {
    "name": "ipython",
    "version": 3
   },
   "file_extension": ".py",
   "mimetype": "text/x-python",
   "name": "python",
   "nbconvert_exporter": "python",
   "pygments_lexer": "ipython3",
   "version": "3.7.6"
  }
 },
 "nbformat": 4,
 "nbformat_minor": 4
}
